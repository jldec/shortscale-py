{
 "cells": [
  {
   "cell_type": "code",
   "execution_count": 21,
   "metadata": {},
   "outputs": [],
   "source": [
    "def powers(n):\n",
    "  print(f'powers({n:,})')\n",
    "  exponent = 0\n",
    "  while n:\n",
    "    next = n // 1000\n",
    "    print(n % 1000, exponent, next > 0)\n",
    "    exponent +=1\n",
    "    n = next"
   ]
  },
  {
   "cell_type": "code",
   "execution_count": 22,
   "metadata": {},
   "outputs": [
    {
     "name": "stdout",
     "output_type": "stream",
     "text": [
      "powers(1,000,000,000)\n",
      "0 0 True\n",
      "0 1 True\n",
      "0 2 True\n",
      "1 3 False\n"
     ]
    }
   ],
   "source": [
    "n = (1000 ** 3)\n",
    "powers(n)"
   ]
  },
  {
   "cell_type": "code",
   "execution_count": 23,
   "metadata": {},
   "outputs": [
    {
     "name": "stdout",
     "output_type": "stream",
     "text": [
      "powers(123,456,789,012)\n",
      "12 0 True\n",
      "789 1 True\n",
      "456 2 True\n",
      "123 3 False\n"
     ]
    }
   ],
   "source": [
    "n = 123_456_789_012\n",
    "powers(n)"
   ]
  },
  {
   "cell_type": "code",
   "execution_count": 24,
   "metadata": {},
   "outputs": [
    {
     "name": "stdout",
     "output_type": "stream",
     "text": [
      "powers(12)\n",
      "12 0 False\n"
     ]
    }
   ],
   "source": [
    "n = 12\n",
    "powers(n)"
   ]
  }
 ],
 "metadata": {
  "kernelspec": {
   "display_name": ".venv",
   "language": "python",
   "name": "python3"
  },
  "language_info": {
   "codemirror_mode": {
    "name": "ipython",
    "version": 3
   },
   "file_extension": ".py",
   "mimetype": "text/x-python",
   "name": "python",
   "nbconvert_exporter": "python",
   "pygments_lexer": "ipython3",
   "version": "3.11.2"
  },
  "orig_nbformat": 4,
  "vscode": {
   "interpreter": {
    "hash": "604fc893fa03d109595f3918922f96ebe730e79f0dd6043dc8365ce27c46f53f"
   }
  }
 },
 "nbformat": 4,
 "nbformat_minor": 2
}
