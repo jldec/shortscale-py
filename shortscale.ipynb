{
 "cells": [
  {
   "cell_type": "code",
   "execution_count": 1,
   "metadata": {},
   "outputs": [
    {
     "ename": "AttributeError",
     "evalue": "module 'shortscale' has no attribute 'scale_words'",
     "output_type": "error",
     "traceback": [
      "\u001b[0;31m---------------------------------------------------------------------------\u001b[0m",
      "\u001b[0;31mAttributeError\u001b[0m                            Traceback (most recent call last)",
      "Cell \u001b[0;32mIn[1], line 8\u001b[0m\n\u001b[1;32m      6\u001b[0m \u001b[39mnext\u001b[39m \u001b[39m=\u001b[39m n \u001b[39m/\u001b[39m\u001b[39m/\u001b[39m \u001b[39m1000\u001b[39m\n\u001b[1;32m      7\u001b[0m mod \u001b[39m=\u001b[39m n \u001b[39m%\u001b[39m \u001b[39m1000\u001b[39m\n\u001b[0;32m----> 8\u001b[0m \u001b[39mprint\u001b[39m(\u001b[39mf\u001b[39m\u001b[39m'\u001b[39m\u001b[39m{\u001b[39;00mmod\u001b[39m:\u001b[39;00m\u001b[39m3d\u001b[39m\u001b[39m}\u001b[39;00m\u001b[39m'\u001b[39m, exponent, shortscale\u001b[39m.\u001b[39;49mscale_words(mod, exponent, \u001b[39mnext\u001b[39m \u001b[39m>\u001b[39m \u001b[39m0\u001b[39m))\n\u001b[1;32m      9\u001b[0m exponent \u001b[39m+\u001b[39m\u001b[39m=\u001b[39m\u001b[39m1\u001b[39m\n\u001b[1;32m     10\u001b[0m n \u001b[39m=\u001b[39m \u001b[39mnext\u001b[39m\n",
      "\u001b[0;31mAttributeError\u001b[0m: module 'shortscale' has no attribute 'scale_words'"
     ]
    }
   ],
   "source": [
    "import shortscale\n",
    "num = 9_999_001_999_023\n",
    "exponent = 0\n",
    "n = num\n",
    "while n:\n",
    "  next = n // 1000\n",
    "  mod = n % 1000\n",
    "  print(f'{mod:3d}', exponent, shortscale.scale_words(mod, exponent, next > 0))\n",
    "  exponent +=1\n",
    "  n = next"
   ]
  },
  {
   "cell_type": "code",
   "execution_count": 13,
   "metadata": {},
   "outputs": [
    {
     "name": "stdout",
     "output_type": "stream",
     "text": [
      "nine trillion nine hundred and ninety nine billion one million nine hundred and ninety nine thousand and twenty three\n"
     ]
    }
   ],
   "source": [
    "print (shortscale.shortscale(num))"
   ]
  },
  {
   "cell_type": "code",
   "execution_count": 2,
   "metadata": {},
   "outputs": [
    {
     "data": {
      "text/plain": [
       "['__builtins__',\n",
       " '__cached__',\n",
       " '__doc__',\n",
       " '__file__',\n",
       " '__loader__',\n",
       " '__name__',\n",
       " '__package__',\n",
       " '__path__',\n",
       " '__spec__']"
      ]
     },
     "execution_count": 2,
     "metadata": {},
     "output_type": "execute_result"
    }
   ],
   "source": [
    "dir(shortscale)"
   ]
  }
 ],
 "metadata": {
  "kernelspec": {
   "display_name": ".venv",
   "language": "python",
   "name": "python3"
  },
  "language_info": {
   "codemirror_mode": {
    "name": "ipython",
    "version": 3
   },
   "file_extension": ".py",
   "mimetype": "text/x-python",
   "name": "python",
   "nbconvert_exporter": "python",
   "pygments_lexer": "ipython3",
   "version": "3.11.2"
  },
  "orig_nbformat": 4,
  "vscode": {
   "interpreter": {
    "hash": "604fc893fa03d109595f3918922f96ebe730e79f0dd6043dc8365ce27c46f53f"
   }
  }
 },
 "nbformat": 4,
 "nbformat_minor": 2
}
