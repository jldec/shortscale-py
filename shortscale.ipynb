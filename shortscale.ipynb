{
 "cells": [
  {
   "cell_type": "code",
   "execution_count": 9,
   "metadata": {},
   "outputs": [
    {
     "name": "stdout",
     "output_type": "stream",
     "text": [
      "123 0 True\n",
      "999 1 True\n",
      "999 2 True\n",
      "999 3 True\n",
      "9 4 False\n"
     ]
    }
   ],
   "source": [
    "# n = (10 ** 33) \n",
    "n = 9_999_999_999_123\n",
    "exponent = 0\n",
    "while n:\n",
    "  next = n // 1000\n",
    "  print(n % 1000, exponent, next > 0)\n",
    "  exponent +=1\n",
    "  n = next\n",
    "\n"
   ]
  }
 ],
 "metadata": {
  "kernelspec": {
   "display_name": ".venv",
   "language": "python",
   "name": "python3"
  },
  "language_info": {
   "codemirror_mode": {
    "name": "ipython",
    "version": 3
   },
   "file_extension": ".py",
   "mimetype": "text/x-python",
   "name": "python",
   "nbconvert_exporter": "python",
   "pygments_lexer": "ipython3",
   "version": "3.10.9"
  },
  "orig_nbformat": 4,
  "vscode": {
   "interpreter": {
    "hash": "eec51541266663fd1332d435678e87baaaf52a71bcb3308b655b2ac7f20f0f27"
   }
  }
 },
 "nbformat": 4,
 "nbformat_minor": 2
}
