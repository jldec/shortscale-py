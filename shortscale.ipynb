{
 "cells": [
  {
   "cell_type": "code",
   "execution_count": 1,
   "metadata": {},
   "outputs": [
    {
     "name": "stdout",
     "output_type": "stream",
     "text": [
      "Requirement already satisfied: shortscale in /Users/jldec/.venv/lib/python3.11/site-packages (1.3.0)\n",
      "Note: you may need to restart the kernel to use updated packages.\n"
     ]
    }
   ],
   "source": [
    "%pip install shortscale\n",
    "import shortscale"
   ]
  },
  {
   "cell_type": "code",
   "execution_count": 2,
   "metadata": {},
   "outputs": [
    {
     "name": "stdout",
     "output_type": "stream",
     "text": [
      " 23 0  and twenty three\n",
      "999 1  nine hundred and ninety nine thousand\n",
      "  1 2  one million\n",
      "999 3  nine hundred and ninety nine billion\n",
      "  9 4  nine trillion\n"
     ]
    }
   ],
   "source": [
    "num = 9_999_001_999_023\n",
    "exponent = 0\n",
    "n = num\n",
    "while n:\n",
    "  next = n // 1000\n",
    "  mod = n % 1000\n",
    "  print(f'{mod:3d}', exponent, shortscale.scale_words(mod, exponent, next > 0))\n",
    "  exponent +=1\n",
    "  n = next"
   ]
  },
  {
   "cell_type": "code",
   "execution_count": 3,
   "metadata": {},
   "outputs": [
    {
     "name": "stdout",
     "output_type": "stream",
     "text": [
      "nine trillion nine hundred and ninety nine billion one million nine hundred and ninety nine thousand and twenty three\n"
     ]
    }
   ],
   "source": [
    "print (shortscale.shortscale(num))"
   ]
  },
  {
   "cell_type": "code",
   "execution_count": 4,
   "metadata": {},
   "outputs": [
    {
     "data": {
      "text/plain": [
       "['__builtins__',\n",
       " '__cached__',\n",
       " '__doc__',\n",
       " '__file__',\n",
       " '__loader__',\n",
       " '__name__',\n",
       " '__package__',\n",
       " '__path__',\n",
       " '__spec__',\n",
       " 'bench_shortscale',\n",
       " 'main',\n",
       " 'numwords',\n",
       " 'scale_words',\n",
       " 'shortscale',\n",
       " 'test_shortscale',\n",
       " 'tests']"
      ]
     },
     "execution_count": 4,
     "metadata": {},
     "output_type": "execute_result"
    }
   ],
   "source": [
    "dir(shortscale)"
   ]
  }
 ],
 "metadata": {
  "kernelspec": {
   "display_name": ".venv",
   "language": "python",
   "name": "python3"
  },
  "language_info": {
   "codemirror_mode": {
    "name": "ipython",
    "version": 3
   },
   "file_extension": ".py",
   "mimetype": "text/x-python",
   "name": "python",
   "nbconvert_exporter": "python",
   "pygments_lexer": "ipython3",
   "version": "3.11.2"
  },
  "orig_nbformat": 4,
  "vscode": {
   "interpreter": {
    "hash": "604fc893fa03d109595f3918922f96ebe730e79f0dd6043dc8365ce27c46f53f"
   }
  }
 },
 "nbformat": 4,
 "nbformat_minor": 2
}
