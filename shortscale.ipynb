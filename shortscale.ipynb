{
 "cells": [
  {
   "cell_type": "code",
   "execution_count": 9,
   "metadata": {},
   "outputs": [],
   "source": [
    "import math"
   ]
  },
  {
   "cell_type": "code",
   "execution_count": 10,
   "metadata": {},
   "outputs": [],
   "source": [
    "n = 8_740_991_777_123\n",
    "max_exponent = math.ceil(len(str(n)) / 3) - 1\n",
    "\n"
   ]
  },
  {
   "cell_type": "code",
   "execution_count": 11,
   "metadata": {},
   "outputs": [
    {
     "name": "stdout",
     "output_type": "stream",
     "text": [
      "8 4 4\n",
      "740 3 4\n",
      "991 2 4\n",
      "777 1 4\n",
      "123 0 4\n"
     ]
    }
   ],
   "source": [
    "for x in range(max_exponent,-1,-1):\n",
    "  p = 1000 ** x\n",
    "  print((n // p), x, max_exponent)\n",
    "  n = n % p\n"
   ]
  },
  {
   "attachments": {},
   "cell_type": "markdown",
   "metadata": {},
   "source": [
    "NOTE: logarithms use floating point which doesn't scale => can't replace len(str(n)) with log10"
   ]
  },
  {
   "cell_type": "code",
   "execution_count": 12,
   "metadata": {},
   "outputs": [
    {
     "name": "stdout",
     "output_type": "stream",
     "text": [
      "16\n",
      "15.0\n",
      "15.999999999999996\n"
     ]
    }
   ],
   "source": [
    "n1 = 1_000_000_000_000_000\n",
    "n2 = 9_999_999_999_999_899  \n",
    "print(len(str(n1)))\n",
    "print(math.log10(n1))\n",
    "print(math.log10(n2))\n"
   ]
  },
  {
   "cell_type": "markdown",
   "metadata": {},
   "source": []
  }
 ],
 "metadata": {
  "kernelspec": {
   "display_name": ".venv",
   "language": "python",
   "name": "python3"
  },
  "language_info": {
   "codemirror_mode": {
    "name": "ipython",
    "version": 3
   },
   "file_extension": ".py",
   "mimetype": "text/x-python",
   "name": "python",
   "nbconvert_exporter": "python",
   "pygments_lexer": "ipython3",
   "version": "3.10.9"
  },
  "orig_nbformat": 4,
  "vscode": {
   "interpreter": {
    "hash": "eec51541266663fd1332d435678e87baaaf52a71bcb3308b655b2ac7f20f0f27"
   }
  }
 },
 "nbformat": 4,
 "nbformat_minor": 2
}
